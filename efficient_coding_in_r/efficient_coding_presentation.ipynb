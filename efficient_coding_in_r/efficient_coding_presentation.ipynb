{
 "cells": [
  {
   "cell_type": "markdown",
   "id": "b4ed0291-a0e5-4fb9-924f-7611f2609c11",
   "metadata": {
    "scrolled": true
   },
   "source": [
    "## Hash Sets and Hash Maps\n",
    "\n",
    "Hash sets and maps are data structure commonly used in programming...,\n",
    "\n",
    "In R, you can use them via package r2r:"
   ]
  },
  {
   "cell_type": "code",
   "execution_count": 1,
   "id": "f718fefe-4da2-42d0-9c34-ce50452677e0",
   "metadata": {},
   "outputs": [
    {
     "name": "stderr",
     "output_type": "stream",
     "text": [
      "Installing package into ‘/home/jakub/R/x86_64-pc-linux-gnu-library/4.4’\n",
      "(as ‘lib’ is unspecified)\n",
      "\n"
     ]
    },
    {
     "name": "stdout",
     "output_type": "stream",
     "text": [
      "[1] \"Hello\" \"World\"\n"
     ]
    },
    {
     "data": {
      "text/html": [
       "4"
      ],
      "text/latex": [
       "4"
      ],
      "text/markdown": [
       "4"
      ],
      "text/plain": [
       "[1] 4"
      ]
     },
     "metadata": {},
     "output_type": "display_data"
    }
   ],
   "source": [
    "install.packages('r2r')\n",
    "x <- c(\"Hello\", \"World\")\n",
    "print(x)\n",
    "2+2"
   ]
  },
  {
   "cell_type": "markdown",
   "id": "9fddaf31-7cb9-4a6d-a5f8-9a8b0d216b6b",
   "metadata": {},
   "source": [
    "To illustrate the principle:"
   ]
  },
  {
   "cell_type": "code",
   "execution_count": 2,
   "id": "f47238c2-9c23-42c2-92e7-6c0986796ebe",
   "metadata": {},
   "outputs": [
    {
     "name": "stdout",
     "output_type": "stream",
     "text": [
      " [1]  1  2  3  4  5  6  7  8  9 10 11 12 13 14 15 16 17 18 19 20\n"
     ]
    }
   ],
   "source": [
    "small_list = list(c(1:20))\n",
    "for(x in small_list){\n",
    "    print(x)    \n",
    "}"
   ]
  }
 ],
 "metadata": {
  "kernelspec": {
   "display_name": "R",
   "language": "R",
   "name": "ir"
  },
  "language_info": {
   "codemirror_mode": "r",
   "file_extension": ".r",
   "mimetype": "text/x-r-source",
   "name": "R",
   "pygments_lexer": "r",
   "version": "4.4.1"
  }
 },
 "nbformat": 4,
 "nbformat_minor": 5
}
