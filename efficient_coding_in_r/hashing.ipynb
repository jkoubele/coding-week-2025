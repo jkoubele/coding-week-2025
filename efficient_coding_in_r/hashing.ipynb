{
 "cells": [
  {
   "cell_type": "markdown",
   "id": "3e2107d0-0b4d-4866-aaec-e525472bb696",
   "metadata": {},
   "source": [
    "## Hash Sets and Hash Maps\n",
    "- Hash sets and [hash maps](https://en.wikipedia.org/wiki/Hash_table) are data structures commonly used in programming. They are a bit similar to (named-) lists, but they can perform certain operations much faster.\n",
    "- Implementation of hash sets/maps is unfortunatelly not directly available in the base R, but they can be used via the package [r2r](https://cran.r-project.org/web/packages/r2r/index.html) (under the hood, the package rellies on the usage of R [environments](https://adv-r.hadley.nz/environments.html)).\n",
    "- Hash sets behaves the same way as [sets](https://en.wikipedia.org/wiki/Set_(mathematics)) in the mathematical sense. This differ from the way how lists operate:\n",
    "    - Each element can be included in the set at most once.\n",
    "    - Sets are not ordered.\n",
    "- Hash maps works similarly as named lists in R, but the keys (names) can be arbitrary objects instead of just strings. Also, the time complexity of using a key to access a value is a constant instead of a linear time."
   ]
  },
  {
   "cell_type": "code",
   "execution_count": 1,
   "id": "f718fefe-4da2-42d0-9c34-ce50452677e0",
   "metadata": {},
   "outputs": [],
   "source": [
    "#install.packages('r2r')\n",
    "#install.packages('microbenchmark')\n",
    "options(repr.plot.width = 16, repr.plot.height = 10)\n",
    "library(r2r)\n",
    "library(microbenchmark)"
   ]
  },
  {
   "cell_type": "markdown",
   "id": "9fddaf31-7cb9-4a6d-a5f8-9a8b0d216b6b",
   "metadata": {},
   "source": [
    "### Hashing allows access in constant time\n",
    "- Starting with R lists and vectors: the good thing is that they allow constant time $\\mathcal{O}(1)$ access to their elements, if we use the integer index."
   ]
  },
  {
   "cell_type": "code",
   "execution_count": 2,
   "id": "f47238c2-9c23-42c2-92e7-6c0986796ebe",
   "metadata": {},
   "outputs": [
    {
     "name": "stdout",
     "output_type": "stream",
     "text": [
      "Unit: nanoseconds\n",
      "                 expr min lq   mean median uq  max neval\n",
      " x <- small_list[[7]]  95 97 146.66     98 99 4247   100\n",
      "Unit: nanoseconds\n",
      "                           expr min  lq   mean median  uq  max neval\n",
      " x <- very_large_list[[456789]]  98 100 131.03    101 102 2901   100\n"
     ]
    }
   ],
   "source": [
    "small_list = as.list(1:10) # The elements of the list can be anything, we just use numbers here for simplicity\n",
    "very_large_list = as.list(1:10^6)\n",
    "\n",
    "bench_read_1 <- microbenchmark(x <- small_list[[7]])\n",
    "bench_read_2 <- microbenchmark(x <- very_large_list[[456789]])\n",
    "\n",
    "print(bench_read_1)\n",
    "print(bench_read_2)"
   ]
  },
  {
   "cell_type": "markdown",
   "id": "612a11f8-5e44-4d4e-9650-486af1479c3b",
   "metadata": {},
   "source": [
    "- So far so good: accessing elements in the lists took about same time for both small and large list. Also, the operation is super fast in general, as it took only about 150 nanoseconds.\n",
    "- However, things get worse if we want to check for presence of certain object (number, string...) in the list, using the **%in%** operator. The R simply tries to compare the object to every element in the list. If the list get larger, then there will be (in the worst case, or on average) more comparisons needed to be made. This is a linear time $\\mathcal{O}(n)$ operation."
   ]
  },
  {
   "cell_type": "code",
   "execution_count": 3,
   "id": "e96181a6-3312-4282-a0cc-af94b856a8c4",
   "metadata": {},
   "outputs": [
    {
     "ename": "ERROR",
     "evalue": "Error in ggplot(results, aes(x = n, y = time)): could not find function \"ggplot\"\n",
     "output_type": "error",
     "traceback": [
      "Error in ggplot(results, aes(x = n, y = time)): could not find function \"ggplot\"\nTraceback:\n"
     ]
    }
   ],
   "source": [
    "list_sizes <- 10^(1:6)\n",
    "results <- data.frame(n = character(), time = numeric())\n",
    "\n",
    "for (n in list_sizes) {    \n",
    "    tested_list <- as.list(sample(1:n, n, replace = TRUE))    \n",
    "    bench_read <- microbenchmark(is_included <- sample(1:n, 1) %in% tested_list, unit = \"ns\", times=20)     \n",
    "    results <- rbind(results, data.frame(n = as.character(n), time = bench_read$time))\n",
    "}\n",
    "\n",
    "ggplot(results, aes(x = n, y = time)) +\n",
    "    geom_boxplot() +\n",
    "    scale_y_log10() +\n",
    "    labs(x = \"List size (n)\", y = \"Runtime (ns)\", title = \"List Membership Test Performance\") +\n",
    "    theme_minimal() +\n",
    "    theme(axis.title = element_text(size = 18),\n",
    "        axis.text = element_text(size = 11),\n",
    "        plot.title = element_text(size = 20, face = \"bold\", hjust = 0.5))\n"
   ]
  },
  {
   "cell_type": "markdown",
   "id": "ebf9384d-4118-4c45-84d6-bddd432f5bd2",
   "metadata": {},
   "source": [
    "Doing the same using hashsets:"
   ]
  },
  {
   "cell_type": "code",
   "execution_count": null,
   "id": "330cc377-c59c-470e-b211-fc54424bc095",
   "metadata": {},
   "outputs": [],
   "source": [
    "library(microbenchmark)\n",
    "library(ggplot2)\n",
    "\n",
    "set_sizes <- 10^(1:6)\n",
    "results <- data.frame(n = character(), time = numeric())\n",
    "\n",
    "for (n in set_sizes) {\n",
    "    tested_hashset <- do.call(hashset, as.list(sample(1:n, n))) \n",
    "    bench_read <- microbenchmark(is_included <- tested_hashset[[sample(1:n, 1)]], unit = \"ns\", times=100)     \n",
    "    results <- rbind(results, data.frame(n = as.character(n), time = bench_read$time))\n",
    "}\n",
    "\n",
    "ggplot(results, aes(x = n, y = time)) +\n",
    "    geom_boxplot() +\n",
    "    scale_y_log10() +\n",
    "    labs(x = \"Hashset size\", y = \"Runtime (ns)\", title = \"Hash Membership Test Performance\") +\n",
    "    theme_minimal() +\n",
    "    theme(axis.title = element_text(size = 18),\n",
    "        axis.text = element_text(size = 11),\n",
    "        plot.title = element_text(size = 20, face = \"bold\", hjust = 0.5))"
   ]
  },
  {
   "cell_type": "markdown",
   "id": "b14a9aa6-848f-4e3a-883b-949fcec0739b",
   "metadata": {},
   "source": [
    "- The [hashing](https://en.wikipedia.org/wiki/Hash_function) works the same way as accessing a list by integer index - the hash of the object specify a place in memory where the object should be located. R can go directly to that place, without iterating over all elements in the set. Accesing the element in hash set is therefore constant time $\\mathcal{O}(1)$ operation."
   ]
  }
 ],
 "metadata": {
  "kernelspec": {
   "display_name": "R",
   "language": "R",
   "name": "ir"
  },
  "language_info": {
   "codemirror_mode": "r",
   "file_extension": ".r",
   "mimetype": "text/x-r-source",
   "name": "R",
   "pygments_lexer": "r",
   "version": "4.4.1"
  }
 },
 "nbformat": 4,
 "nbformat_minor": 5
}
