{
 "cells": [
  {
   "cell_type": "markdown",
   "id": "d508ad89-b5a3-40f9-bc7f-7e58c8319288",
   "metadata": {},
   "source": [
    "## Installing Git"
   ]
  },
  {
   "cell_type": "markdown",
   "id": "28e231bd-b1c9-4138-bb0e-17eb96846fc1",
   "metadata": {},
   "source": [
    "## Creating a GitHub Account\n",
    "\n",
    "If you do not already have a GitHub account, you can create one here: https://github.com/signup\n",
    "\n",
    "- Enter your details (username, email, password).\n",
    "- Verify your email and complete the setup."
   ]
  },
  {
   "cell_type": "markdown",
   "id": "a2487662-621f-4b2d-abe4-bdb5ef55b577",
   "metadata": {},
   "source": [
    "## Creating a Repository\n",
    "\n",
    "- Log into your GitHub account.\n",
    "- Click on the \"+\" in the top right corner and select *New repository*.\n",
    "- Enter a Repository name.\n",
    "- Choose *Public* (visible to everyone) or *Private* (only accessible by you and invited collaborators).\n",
    "- Check *Initialize this repository* with a README (optional, but useful).\n",
    "- Click *Create repository*."
   ]
  },
  {
   "cell_type": "markdown",
   "id": "20b3a4d3-c997-45aa-9681-fdb0174e85b8",
   "metadata": {},
   "source": [
    "## Adding Scripts to the Repository\n",
    "### Cloning the Repository\n",
    "\n",
    "Using Git, navigate to the folder where you want to have your repository."
   ]
  },
  {
   "cell_type": "code",
   "execution_count": null,
   "id": "43f729a1-cdd1-4858-8448-b32c7bc54327",
   "metadata": {},
   "outputs": [],
   "source": [
    "git clone https://github.com/YOUR-USERNAME/my_project.git\n",
    "cd my_project"
   ]
  },
  {
   "cell_type": "markdown",
   "id": "daa4ac87-c861-42ab-b18c-09f402b017c3",
   "metadata": {},
   "source": [
    "### Add a Script\n"
   ]
  },
  {
   "cell_type": "markdown",
   "id": "79b98ad4-ca84-4ea3-83be-03e84af1970a",
   "metadata": {},
   "source": [
    "### Add and Commit the Script"
   ]
  },
  {
   "cell_type": "code",
   "execution_count": null,
   "id": "802a779e-94ce-47b8-b80c-cdcc5ce768eb",
   "metadata": {},
   "outputs": [],
   "source": [
    "git add script.R   # or \"git add .\" if you added multiple scripts at once\n",
    "git commit -m \"Some informative comment\"\n",
    "git push origin main"
   ]
  }
 ],
 "metadata": {
  "kernelspec": {
   "display_name": "R",
   "language": "R",
   "name": "ir"
  },
  "language_info": {
   "codemirror_mode": "r",
   "file_extension": ".r",
   "mimetype": "text/x-r-source",
   "name": "R",
   "pygments_lexer": "r",
   "version": "4.3.3"
  }
 },
 "nbformat": 4,
 "nbformat_minor": 5
}
