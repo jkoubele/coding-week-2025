{
 "cells": [
  {
   "cell_type": "markdown",
   "id": "d508ad89-b5a3-40f9-bc7f-7e58c8319288",
   "metadata": {},
   "source": [
    "# Setting up a Git Repository"
   ]
  },
  {
   "cell_type": "markdown",
   "id": "a825c2ef-2270-47bb-aed6-2dd716a885f9",
   "metadata": {},
   "source": [
    "## Installing Git"
   ]
  },
  {
   "cell_type": "markdown",
   "id": "28e231bd-b1c9-4138-bb0e-17eb96846fc1",
   "metadata": {},
   "source": [
    "## Creating a GitHub Account\n",
    "\n",
    "If you do not already have a GitHub account, you can create one here: https://github.com/signup\n",
    "\n",
    "- Enter your details (username, email, password).\n",
    "- Verify your email and complete the setup."
   ]
  },
  {
   "cell_type": "markdown",
   "id": "a2487662-621f-4b2d-abe4-bdb5ef55b577",
   "metadata": {},
   "source": [
    "## Creating a Repository\n",
    "\n",
    "- Log into your GitHub account.\n",
    "- Click on the \"+\" in the top right corner and select *New repository*.\n",
    "- Enter a Repository name.\n",
    "- Choose *Public* (visible to everyone) or *Private* (only accessible by you and invited collaborators).\n",
    "- Check *Initialize this repository* with a README (optional, but useful).\n",
    "- Click *Create repository*."
   ]
  },
  {
   "cell_type": "markdown",
   "id": "20b3a4d3-c997-45aa-9681-fdb0174e85b8",
   "metadata": {},
   "source": [
    "## Adding Scripts to the Repository\n",
    "### Cloning the Repository\n",
    "\n",
    "Using Git, navigate to the folder where you want to have your repository."
   ]
  },
  {
   "cell_type": "code",
   "execution_count": null,
   "id": "43f729a1-cdd1-4858-8448-b32c7bc54327",
   "metadata": {},
   "outputs": [],
   "source": [
    "git clone https://github.com/YOUR-USERNAME/my_project.git\n",
    "cd my_project"
   ]
  },
  {
   "cell_type": "markdown",
   "id": "daa4ac87-c861-42ab-b18c-09f402b017c3",
   "metadata": {},
   "source": [
    "### Add a Script\n"
   ]
  },
  {
   "cell_type": "markdown",
   "id": "79b98ad4-ca84-4ea3-83be-03e84af1970a",
   "metadata": {},
   "source": [
    "### Add and Commit the Script"
   ]
  },
  {
   "cell_type": "code",
   "execution_count": null,
   "id": "802a779e-94ce-47b8-b80c-cdcc5ce768eb",
   "metadata": {},
   "outputs": [],
   "source": [
    "git add script.R   # or \"git add .\" if you added multiple scripts at once\n",
    "git commit -m \"Some informative comment\"\n",
    "git push origin main"
   ]
  },
  {
   "cell_type": "markdown",
   "id": "9d1d321e-0c7d-41f3-9133-f0a676bbc8f4",
   "metadata": {},
   "source": [
    "# Working in a Repository with Others"
   ]
  },
  {
   "cell_type": "markdown",
   "id": "8089ca8f-8c9d-4fab-aeb4-49a28f23f1e1",
   "metadata": {},
   "source": [
    "One person created a repository.\n",
    "First, you need to clone it:"
   ]
  },
  {
   "cell_type": "code",
   "execution_count": null,
   "id": "fae1efef-6124-424a-a88f-2437239df033",
   "metadata": {},
   "outputs": [],
   "source": [
    "# Clone the repository\n",
    "git clone https://github.com/PERSONS-USERNAME/persons_project.git\n",
    "# Navigate into the repository\n",
    "cd coding-week-test"
   ]
  },
  {
   "cell_type": "markdown",
   "id": "5f5bf30b-5563-4b21-99f4-1034b96c1759",
   "metadata": {},
   "source": [
    "## Working with Branches\n",
    "\n",
    "Branches allow multiple people to work on different features without affecting the **main** branch."
   ]
  },
  {
   "cell_type": "markdown",
   "id": "2459a319-2874-40c5-a8eb-8609af3f381b",
   "metadata": {},
   "source": [
    "Create a new branch and switch to it:"
   ]
  },
  {
   "cell_type": "code",
   "execution_count": null,
   "id": "b065ad16-dcd3-4514-9559-3b087866810b",
   "metadata": {},
   "outputs": [],
   "source": [
    "git checkout -b branch-name  # Create and switch to a new branch"
   ]
  },
  {
   "cell_type": "code",
   "execution_count": null,
   "id": "1fbfbdc0-dbe0-4b26-a34f-176e0ae67f52",
   "metadata": {},
   "outputs": [],
   "source": [
    "# Other basic branch comments\n",
    "git branch branch-name    # Create a new branch\n",
    "git checkout branch-name  # Switch to a branch\n",
    "git branch                  # List all branches"
   ]
  },
  {
   "cell_type": "markdown",
   "id": "46bff671-8206-404b-9ea1-3be304552458",
   "metadata": {},
   "source": [
    "Now you can work locally on the existing files and add additional files.\n",
    "Then you can add these changes:"
   ]
  },
  {
   "cell_type": "code",
   "execution_count": null,
   "id": "7e503efe-48e0-4312-8b10-b444895a0b6c",
   "metadata": {},
   "outputs": [],
   "source": [
    "# Check current status\n",
    "git status # you can see that changes are not staged for commit yet)\n",
    "\n",
    "# Add all changes\n",
    "git add .\n",
    "\n",
    "# When you know check the status again, you can see that changes are ready to commit\n",
    "\n",
    "# Commit the changes\n",
    "git commit -m \"Some informative comment\"\n",
    "\n",
    "# Push the changes\n",
    "git push"
   ]
  },
  {
   "cell_type": "markdown",
   "id": "2a3cb9e6-1551-4fd4-ba1b-0556c04d26e3",
   "metadata": {},
   "source": [
    "You will probably get an error saying that you need to copy and run this comment: *git push --set-upstream origin branch-name*.\n",
    "Do this and you will be able to proceed."
   ]
  },
  {
   "cell_type": "markdown",
   "id": "7a8bdb0c-af04-4169-878a-fb9571fd04f6",
   "metadata": {},
   "source": [
    "Create a pull request on the repository's GitHub page (by visiting https://github.com/PERSONS-USERNAME/persons_project/pull/new/branch-name).\n",
    "Then the other person has to review the changes and accept them or not.\n",
    "If they don't, you can revise your code accordingly.\n",
    "If you have revised your code in R, commit and add the changes you made to revise the code:"
   ]
  },
  {
   "cell_type": "code",
   "execution_count": null,
   "id": "7a09aa84-749e-4e12-8e33-88ef913e4b99",
   "metadata": {},
   "outputs": [],
   "source": [
    "# Add and commit at the same time\n",
    "git commit -a"
   ]
  },
  {
   "cell_type": "markdown",
   "id": "b9e2a61b-8790-49d9-877a-a034253dfee7",
   "metadata": {},
   "source": [
    "There will appear a window (Vim or Nano). To escape this situation:\n",
    "If Vim: Press ESC, then type :wq (write & quit) and press Enter.\n",
    "If Nano: Press CTRL + X, then Y to save, and Enter to confirm.\n",
    "Then you will be able to push."
   ]
  },
  {
   "cell_type": "code",
   "execution_count": null,
   "id": "313babf8-73a8-4e71-b30d-2c0d3d6cbf85",
   "metadata": {},
   "outputs": [],
   "source": [
    "git push"
   ]
  },
  {
   "cell_type": "markdown",
   "id": "64eddea9-a502-4284-9861-f2a4fb32f491",
   "metadata": {},
   "source": [
    "When the person accepts the changes, the branch will be merged to the main.\n",
    "Navigate back to the main branch and pull the newest version."
   ]
  },
  {
   "cell_type": "code",
   "execution_count": null,
   "id": "25f98741-9ef1-4893-8eef-96f2569638b8",
   "metadata": {},
   "outputs": [],
   "source": [
    "git checkout main\n",
    "git pull"
   ]
  }
 ],
 "metadata": {
  "kernelspec": {
   "display_name": "R",
   "language": "R",
   "name": "ir"
  },
  "language_info": {
   "codemirror_mode": "r",
   "file_extension": ".r",
   "mimetype": "text/x-r-source",
   "name": "R",
   "pygments_lexer": "r",
   "version": "4.3.3"
  }
 },
 "nbformat": 4,
 "nbformat_minor": 5
}
